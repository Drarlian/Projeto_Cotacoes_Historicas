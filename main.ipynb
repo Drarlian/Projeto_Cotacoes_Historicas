{
 "cells": [
  {
   "metadata": {},
   "cell_type": "code",
   "source": "!pip install yfinance pandas matplotlib mplcyberpunk",
   "id": "c18de8b8e2b8aaf1",
   "outputs": [],
   "execution_count": null
  },
  {
   "metadata": {
    "ExecuteTime": {
     "end_time": "2024-09-11T14:34:31.932511Z",
     "start_time": "2024-09-11T14:34:31.929864Z"
    }
   },
   "cell_type": "code",
   "source": [
    "# Importando as bibliotecas necessárias:\n",
    "import yfinance as yf\n",
    "import pandas as pd\n",
    "import matplotlib.pyplot as plt\n",
    "import mplcyberpunk\n",
    "from typing import List"
   ],
   "id": "initial_id",
   "outputs": [],
   "execution_count": 64
  },
  {
   "metadata": {
    "ExecuteTime": {
     "end_time": "2024-09-11T14:34:31.949136Z",
     "start_time": "2024-09-11T14:34:31.933726Z"
    }
   },
   "cell_type": "code",
   "source": [
    "# Definindo os tickets alvos:\n",
    "tickers: List[str] = ['^BVSP', '^GSPC', 'BRL=X']"
   ],
   "id": "fa46ac8122682331",
   "outputs": [],
   "execution_count": 65
  },
  {
   "metadata": {
    "ExecuteTime": {
     "end_time": "2024-09-11T14:34:32.234939Z",
     "start_time": "2024-09-11T14:34:31.950149Z"
    }
   },
   "cell_type": "code",
   "source": [
    "# dados_mercado = yf.download(tickers=tickers, period='max', interval='1d')\n",
    "dados_mercado = yf.download(tickers=tickers, period='6mo')\n",
    "dados_mercado_adj_close = dados_mercado['Adj Close']\n",
    "print(dados_mercado_adj_close)"
   ],
   "id": "1034eb11e8a079ec",
   "outputs": [
    {
     "name": "stderr",
     "output_type": "stream",
     "text": [
      "[*********************100%***********************]  3 of 3 completed"
     ]
    },
    {
     "name": "stdout",
     "output_type": "stream",
     "text": [
      "Ticker                       BRL=X          ^BVSP        ^GSPC\n",
      "Date                                                          \n",
      "2024-03-11 00:00:00+00:00  4.97754  126124.000000  5117.939941\n",
      "2024-03-12 00:00:00+00:00  4.97740  127668.000000  5175.270020\n",
      "2024-03-13 00:00:00+00:00  4.96870  128006.000000  5165.310059\n",
      "2024-03-14 00:00:00+00:00  4.96920  127690.000000  5150.479980\n",
      "2024-03-15 00:00:00+00:00  4.99270  126742.000000  5117.089844\n",
      "...                            ...            ...          ...\n",
      "2024-09-05 00:00:00+00:00  5.64200  136502.000000  5503.410156\n",
      "2024-09-06 00:00:00+00:00  5.56750  134572.000000  5408.419922\n",
      "2024-09-09 00:00:00+00:00  5.59660  134737.000000  5471.049805\n",
      "2024-09-10 00:00:00+00:00  5.58430  134320.000000  5495.520020\n",
      "2024-09-11 00:00:00+00:00  5.65700  134390.609375  5413.160156\n",
      "\n",
      "[133 rows x 3 columns]\n"
     ]
    },
    {
     "name": "stderr",
     "output_type": "stream",
     "text": [
      "\n"
     ]
    }
   ],
   "execution_count": 66
  },
  {
   "metadata": {
    "ExecuteTime": {
     "end_time": "2024-09-11T14:34:32.245490Z",
     "start_time": "2024-09-11T14:34:32.235948Z"
    }
   },
   "cell_type": "code",
   "source": [
    "# Pegando apenas os primeiros 50 elementos da tabela \"dados_mercado_adj_close\":\n",
    "dados_mercado_adj_close.head(50)"
   ],
   "id": "d85d4f7e43fd2346",
   "outputs": [
    {
     "data": {
      "text/plain": [
       "Ticker                        BRL=X     ^BVSP        ^GSPC\n",
       "Date                                                      \n",
       "2024-03-11 00:00:00+00:00  4.977540  126124.0  5117.939941\n",
       "2024-03-12 00:00:00+00:00  4.977400  127668.0  5175.270020\n",
       "2024-03-13 00:00:00+00:00  4.968700  128006.0  5165.310059\n",
       "2024-03-14 00:00:00+00:00  4.969200  127690.0  5150.479980\n",
       "2024-03-15 00:00:00+00:00  4.992700  126742.0  5117.089844\n",
       "2024-03-18 00:00:00+00:00  4.968047  126954.0  5149.419922\n",
       "2024-03-19 00:00:00+00:00  5.029400  127529.0  5178.509766\n",
       "2024-03-20 00:00:00+00:00  5.030000  129125.0  5224.620117\n",
       "2024-03-21 00:00:00+00:00  4.966200  128159.0  5241.529785\n",
       "2024-03-22 00:00:00+00:00  4.974500  127027.0  5234.180176\n",
       "2024-03-25 00:00:00+00:00  5.000900  126931.0  5218.189941\n",
       "2024-03-26 00:00:00+00:00  4.972200  126863.0  5203.580078\n",
       "2024-03-27 00:00:00+00:00  4.975700  127691.0  5248.490234\n",
       "2024-03-28 00:00:00+00:00  4.990300  128106.0  5254.350098\n",
       "2024-03-29 00:00:00+00:00  5.014100       NaN          NaN\n",
       "2024-04-01 00:00:00+00:00  5.013200  126990.0  5243.770020\n",
       "2024-04-02 00:00:00+00:00  5.053600  127549.0  5205.810059\n",
       "2024-04-03 00:00:00+00:00  5.064400  127318.0  5211.490234\n",
       "2024-04-04 00:00:00+00:00  5.038600  127428.0  5147.209961\n",
       "2024-04-05 00:00:00+00:00  5.057400  126795.0  5204.339844\n",
       "2024-04-08 00:00:00+00:00  5.054900  128857.0  5202.390137\n",
       "2024-04-09 00:00:00+00:00  5.023900  129890.0  5209.910156\n",
       "2024-04-10 00:00:00+00:00  5.007600  128054.0  5160.640137\n",
       "2024-04-11 00:00:00+00:00  5.066200  127396.0  5199.060059\n",
       "2024-04-12 00:00:00+00:00  5.090400  125946.0  5123.410156\n",
       "2024-04-15 00:00:00+00:00  5.117100  125334.0  5061.819824\n",
       "2024-04-16 00:00:00+00:00  5.183700  124389.0  5051.410156\n",
       "2024-04-17 00:00:00+00:00  5.285500  124171.0  5022.209961\n",
       "2024-04-18 00:00:00+00:00  5.232600  124196.0  5011.120117\n",
       "2024-04-19 00:00:00+00:00  5.241700  125124.0  4967.229980\n",
       "2024-04-22 00:00:00+00:00  5.206200  125573.0  5010.600098\n",
       "2024-04-23 00:00:00+00:00  5.165700  125148.0  5070.549805\n",
       "2024-04-24 00:00:00+00:00  5.130500  124741.0  5071.629883\n",
       "2024-04-25 00:00:00+00:00  5.145500  124646.0  5048.419922\n",
       "2024-04-26 00:00:00+00:00  5.158600  126526.0  5099.959961\n",
       "2024-04-29 00:00:00+00:00  5.115500  127352.0  5116.169922\n",
       "2024-04-30 00:00:00+00:00  5.117000  125924.0  5035.689941\n",
       "2024-05-01 00:00:00+00:00  5.193900       NaN  5018.390137\n",
       "2024-05-02 00:00:00+00:00  5.194400  127122.0  5064.200195\n",
       "2024-05-03 00:00:00+00:00  5.110300  128509.0  5127.790039\n",
       "2024-05-06 00:00:00+00:00  5.070900  128466.0  5180.740234\n",
       "2024-05-07 00:00:00+00:00  5.074900  129210.0  5187.700195\n",
       "2024-05-08 00:00:00+00:00  5.073300  129481.0  5187.669922\n",
       "2024-05-09 00:00:00+00:00  5.087900  128188.0  5214.080078\n",
       "2024-05-10 00:00:00+00:00  5.140800  127600.0  5222.680176\n",
       "2024-05-13 00:00:00+00:00  5.123260  128155.0  5221.419922\n",
       "2024-05-14 00:00:00+00:00  5.154200  128515.0  5246.680176\n",
       "2024-05-15 00:00:00+00:00  5.127800  128028.0  5308.149902\n",
       "2024-05-16 00:00:00+00:00  5.133600  128284.0  5297.100098\n",
       "2024-05-17 00:00:00+00:00  5.128600  128151.0  5303.270020"
      ],
      "text/html": [
       "<div>\n",
       "<style scoped>\n",
       "    .dataframe tbody tr th:only-of-type {\n",
       "        vertical-align: middle;\n",
       "    }\n",
       "\n",
       "    .dataframe tbody tr th {\n",
       "        vertical-align: top;\n",
       "    }\n",
       "\n",
       "    .dataframe thead th {\n",
       "        text-align: right;\n",
       "    }\n",
       "</style>\n",
       "<table border=\"1\" class=\"dataframe\">\n",
       "  <thead>\n",
       "    <tr style=\"text-align: right;\">\n",
       "      <th>Ticker</th>\n",
       "      <th>BRL=X</th>\n",
       "      <th>^BVSP</th>\n",
       "      <th>^GSPC</th>\n",
       "    </tr>\n",
       "    <tr>\n",
       "      <th>Date</th>\n",
       "      <th></th>\n",
       "      <th></th>\n",
       "      <th></th>\n",
       "    </tr>\n",
       "  </thead>\n",
       "  <tbody>\n",
       "    <tr>\n",
       "      <th>2024-03-11 00:00:00+00:00</th>\n",
       "      <td>4.977540</td>\n",
       "      <td>126124.0</td>\n",
       "      <td>5117.939941</td>\n",
       "    </tr>\n",
       "    <tr>\n",
       "      <th>2024-03-12 00:00:00+00:00</th>\n",
       "      <td>4.977400</td>\n",
       "      <td>127668.0</td>\n",
       "      <td>5175.270020</td>\n",
       "    </tr>\n",
       "    <tr>\n",
       "      <th>2024-03-13 00:00:00+00:00</th>\n",
       "      <td>4.968700</td>\n",
       "      <td>128006.0</td>\n",
       "      <td>5165.310059</td>\n",
       "    </tr>\n",
       "    <tr>\n",
       "      <th>2024-03-14 00:00:00+00:00</th>\n",
       "      <td>4.969200</td>\n",
       "      <td>127690.0</td>\n",
       "      <td>5150.479980</td>\n",
       "    </tr>\n",
       "    <tr>\n",
       "      <th>2024-03-15 00:00:00+00:00</th>\n",
       "      <td>4.992700</td>\n",
       "      <td>126742.0</td>\n",
       "      <td>5117.089844</td>\n",
       "    </tr>\n",
       "    <tr>\n",
       "      <th>2024-03-18 00:00:00+00:00</th>\n",
       "      <td>4.968047</td>\n",
       "      <td>126954.0</td>\n",
       "      <td>5149.419922</td>\n",
       "    </tr>\n",
       "    <tr>\n",
       "      <th>2024-03-19 00:00:00+00:00</th>\n",
       "      <td>5.029400</td>\n",
       "      <td>127529.0</td>\n",
       "      <td>5178.509766</td>\n",
       "    </tr>\n",
       "    <tr>\n",
       "      <th>2024-03-20 00:00:00+00:00</th>\n",
       "      <td>5.030000</td>\n",
       "      <td>129125.0</td>\n",
       "      <td>5224.620117</td>\n",
       "    </tr>\n",
       "    <tr>\n",
       "      <th>2024-03-21 00:00:00+00:00</th>\n",
       "      <td>4.966200</td>\n",
       "      <td>128159.0</td>\n",
       "      <td>5241.529785</td>\n",
       "    </tr>\n",
       "    <tr>\n",
       "      <th>2024-03-22 00:00:00+00:00</th>\n",
       "      <td>4.974500</td>\n",
       "      <td>127027.0</td>\n",
       "      <td>5234.180176</td>\n",
       "    </tr>\n",
       "    <tr>\n",
       "      <th>2024-03-25 00:00:00+00:00</th>\n",
       "      <td>5.000900</td>\n",
       "      <td>126931.0</td>\n",
       "      <td>5218.189941</td>\n",
       "    </tr>\n",
       "    <tr>\n",
       "      <th>2024-03-26 00:00:00+00:00</th>\n",
       "      <td>4.972200</td>\n",
       "      <td>126863.0</td>\n",
       "      <td>5203.580078</td>\n",
       "    </tr>\n",
       "    <tr>\n",
       "      <th>2024-03-27 00:00:00+00:00</th>\n",
       "      <td>4.975700</td>\n",
       "      <td>127691.0</td>\n",
       "      <td>5248.490234</td>\n",
       "    </tr>\n",
       "    <tr>\n",
       "      <th>2024-03-28 00:00:00+00:00</th>\n",
       "      <td>4.990300</td>\n",
       "      <td>128106.0</td>\n",
       "      <td>5254.350098</td>\n",
       "    </tr>\n",
       "    <tr>\n",
       "      <th>2024-03-29 00:00:00+00:00</th>\n",
       "      <td>5.014100</td>\n",
       "      <td>NaN</td>\n",
       "      <td>NaN</td>\n",
       "    </tr>\n",
       "    <tr>\n",
       "      <th>2024-04-01 00:00:00+00:00</th>\n",
       "      <td>5.013200</td>\n",
       "      <td>126990.0</td>\n",
       "      <td>5243.770020</td>\n",
       "    </tr>\n",
       "    <tr>\n",
       "      <th>2024-04-02 00:00:00+00:00</th>\n",
       "      <td>5.053600</td>\n",
       "      <td>127549.0</td>\n",
       "      <td>5205.810059</td>\n",
       "    </tr>\n",
       "    <tr>\n",
       "      <th>2024-04-03 00:00:00+00:00</th>\n",
       "      <td>5.064400</td>\n",
       "      <td>127318.0</td>\n",
       "      <td>5211.490234</td>\n",
       "    </tr>\n",
       "    <tr>\n",
       "      <th>2024-04-04 00:00:00+00:00</th>\n",
       "      <td>5.038600</td>\n",
       "      <td>127428.0</td>\n",
       "      <td>5147.209961</td>\n",
       "    </tr>\n",
       "    <tr>\n",
       "      <th>2024-04-05 00:00:00+00:00</th>\n",
       "      <td>5.057400</td>\n",
       "      <td>126795.0</td>\n",
       "      <td>5204.339844</td>\n",
       "    </tr>\n",
       "    <tr>\n",
       "      <th>2024-04-08 00:00:00+00:00</th>\n",
       "      <td>5.054900</td>\n",
       "      <td>128857.0</td>\n",
       "      <td>5202.390137</td>\n",
       "    </tr>\n",
       "    <tr>\n",
       "      <th>2024-04-09 00:00:00+00:00</th>\n",
       "      <td>5.023900</td>\n",
       "      <td>129890.0</td>\n",
       "      <td>5209.910156</td>\n",
       "    </tr>\n",
       "    <tr>\n",
       "      <th>2024-04-10 00:00:00+00:00</th>\n",
       "      <td>5.007600</td>\n",
       "      <td>128054.0</td>\n",
       "      <td>5160.640137</td>\n",
       "    </tr>\n",
       "    <tr>\n",
       "      <th>2024-04-11 00:00:00+00:00</th>\n",
       "      <td>5.066200</td>\n",
       "      <td>127396.0</td>\n",
       "      <td>5199.060059</td>\n",
       "    </tr>\n",
       "    <tr>\n",
       "      <th>2024-04-12 00:00:00+00:00</th>\n",
       "      <td>5.090400</td>\n",
       "      <td>125946.0</td>\n",
       "      <td>5123.410156</td>\n",
       "    </tr>\n",
       "    <tr>\n",
       "      <th>2024-04-15 00:00:00+00:00</th>\n",
       "      <td>5.117100</td>\n",
       "      <td>125334.0</td>\n",
       "      <td>5061.819824</td>\n",
       "    </tr>\n",
       "    <tr>\n",
       "      <th>2024-04-16 00:00:00+00:00</th>\n",
       "      <td>5.183700</td>\n",
       "      <td>124389.0</td>\n",
       "      <td>5051.410156</td>\n",
       "    </tr>\n",
       "    <tr>\n",
       "      <th>2024-04-17 00:00:00+00:00</th>\n",
       "      <td>5.285500</td>\n",
       "      <td>124171.0</td>\n",
       "      <td>5022.209961</td>\n",
       "    </tr>\n",
       "    <tr>\n",
       "      <th>2024-04-18 00:00:00+00:00</th>\n",
       "      <td>5.232600</td>\n",
       "      <td>124196.0</td>\n",
       "      <td>5011.120117</td>\n",
       "    </tr>\n",
       "    <tr>\n",
       "      <th>2024-04-19 00:00:00+00:00</th>\n",
       "      <td>5.241700</td>\n",
       "      <td>125124.0</td>\n",
       "      <td>4967.229980</td>\n",
       "    </tr>\n",
       "    <tr>\n",
       "      <th>2024-04-22 00:00:00+00:00</th>\n",
       "      <td>5.206200</td>\n",
       "      <td>125573.0</td>\n",
       "      <td>5010.600098</td>\n",
       "    </tr>\n",
       "    <tr>\n",
       "      <th>2024-04-23 00:00:00+00:00</th>\n",
       "      <td>5.165700</td>\n",
       "      <td>125148.0</td>\n",
       "      <td>5070.549805</td>\n",
       "    </tr>\n",
       "    <tr>\n",
       "      <th>2024-04-24 00:00:00+00:00</th>\n",
       "      <td>5.130500</td>\n",
       "      <td>124741.0</td>\n",
       "      <td>5071.629883</td>\n",
       "    </tr>\n",
       "    <tr>\n",
       "      <th>2024-04-25 00:00:00+00:00</th>\n",
       "      <td>5.145500</td>\n",
       "      <td>124646.0</td>\n",
       "      <td>5048.419922</td>\n",
       "    </tr>\n",
       "    <tr>\n",
       "      <th>2024-04-26 00:00:00+00:00</th>\n",
       "      <td>5.158600</td>\n",
       "      <td>126526.0</td>\n",
       "      <td>5099.959961</td>\n",
       "    </tr>\n",
       "    <tr>\n",
       "      <th>2024-04-29 00:00:00+00:00</th>\n",
       "      <td>5.115500</td>\n",
       "      <td>127352.0</td>\n",
       "      <td>5116.169922</td>\n",
       "    </tr>\n",
       "    <tr>\n",
       "      <th>2024-04-30 00:00:00+00:00</th>\n",
       "      <td>5.117000</td>\n",
       "      <td>125924.0</td>\n",
       "      <td>5035.689941</td>\n",
       "    </tr>\n",
       "    <tr>\n",
       "      <th>2024-05-01 00:00:00+00:00</th>\n",
       "      <td>5.193900</td>\n",
       "      <td>NaN</td>\n",
       "      <td>5018.390137</td>\n",
       "    </tr>\n",
       "    <tr>\n",
       "      <th>2024-05-02 00:00:00+00:00</th>\n",
       "      <td>5.194400</td>\n",
       "      <td>127122.0</td>\n",
       "      <td>5064.200195</td>\n",
       "    </tr>\n",
       "    <tr>\n",
       "      <th>2024-05-03 00:00:00+00:00</th>\n",
       "      <td>5.110300</td>\n",
       "      <td>128509.0</td>\n",
       "      <td>5127.790039</td>\n",
       "    </tr>\n",
       "    <tr>\n",
       "      <th>2024-05-06 00:00:00+00:00</th>\n",
       "      <td>5.070900</td>\n",
       "      <td>128466.0</td>\n",
       "      <td>5180.740234</td>\n",
       "    </tr>\n",
       "    <tr>\n",
       "      <th>2024-05-07 00:00:00+00:00</th>\n",
       "      <td>5.074900</td>\n",
       "      <td>129210.0</td>\n",
       "      <td>5187.700195</td>\n",
       "    </tr>\n",
       "    <tr>\n",
       "      <th>2024-05-08 00:00:00+00:00</th>\n",
       "      <td>5.073300</td>\n",
       "      <td>129481.0</td>\n",
       "      <td>5187.669922</td>\n",
       "    </tr>\n",
       "    <tr>\n",
       "      <th>2024-05-09 00:00:00+00:00</th>\n",
       "      <td>5.087900</td>\n",
       "      <td>128188.0</td>\n",
       "      <td>5214.080078</td>\n",
       "    </tr>\n",
       "    <tr>\n",
       "      <th>2024-05-10 00:00:00+00:00</th>\n",
       "      <td>5.140800</td>\n",
       "      <td>127600.0</td>\n",
       "      <td>5222.680176</td>\n",
       "    </tr>\n",
       "    <tr>\n",
       "      <th>2024-05-13 00:00:00+00:00</th>\n",
       "      <td>5.123260</td>\n",
       "      <td>128155.0</td>\n",
       "      <td>5221.419922</td>\n",
       "    </tr>\n",
       "    <tr>\n",
       "      <th>2024-05-14 00:00:00+00:00</th>\n",
       "      <td>5.154200</td>\n",
       "      <td>128515.0</td>\n",
       "      <td>5246.680176</td>\n",
       "    </tr>\n",
       "    <tr>\n",
       "      <th>2024-05-15 00:00:00+00:00</th>\n",
       "      <td>5.127800</td>\n",
       "      <td>128028.0</td>\n",
       "      <td>5308.149902</td>\n",
       "    </tr>\n",
       "    <tr>\n",
       "      <th>2024-05-16 00:00:00+00:00</th>\n",
       "      <td>5.133600</td>\n",
       "      <td>128284.0</td>\n",
       "      <td>5297.100098</td>\n",
       "    </tr>\n",
       "    <tr>\n",
       "      <th>2024-05-17 00:00:00+00:00</th>\n",
       "      <td>5.128600</td>\n",
       "      <td>128151.0</td>\n",
       "      <td>5303.270020</td>\n",
       "    </tr>\n",
       "  </tbody>\n",
       "</table>\n",
       "</div>"
      ]
     },
     "execution_count": 67,
     "metadata": {},
     "output_type": "execute_result"
    }
   ],
   "execution_count": 67
  },
  {
   "metadata": {
    "ExecuteTime": {
     "end_time": "2024-09-11T14:34:32.262285Z",
     "start_time": "2024-09-11T14:34:32.246495Z"
    }
   },
   "cell_type": "code",
   "source": [
    "# Excluindo as linhas com conteúdo vazio:\n",
    "dados_mercado_adj_close = dados_mercado_adj_close.dropna()\n",
    "print(dados_mercado_adj_close)"
   ],
   "id": "3b814da09c90c97f",
   "outputs": [
    {
     "name": "stdout",
     "output_type": "stream",
     "text": [
      "Ticker                       BRL=X          ^BVSP        ^GSPC\n",
      "Date                                                          \n",
      "2024-03-11 00:00:00+00:00  4.97754  126124.000000  5117.939941\n",
      "2024-03-12 00:00:00+00:00  4.97740  127668.000000  5175.270020\n",
      "2024-03-13 00:00:00+00:00  4.96870  128006.000000  5165.310059\n",
      "2024-03-14 00:00:00+00:00  4.96920  127690.000000  5150.479980\n",
      "2024-03-15 00:00:00+00:00  4.99270  126742.000000  5117.089844\n",
      "...                            ...            ...          ...\n",
      "2024-09-05 00:00:00+00:00  5.64200  136502.000000  5503.410156\n",
      "2024-09-06 00:00:00+00:00  5.56750  134572.000000  5408.419922\n",
      "2024-09-09 00:00:00+00:00  5.59660  134737.000000  5471.049805\n",
      "2024-09-10 00:00:00+00:00  5.58430  134320.000000  5495.520020\n",
      "2024-09-11 00:00:00+00:00  5.65700  134390.609375  5413.160156\n",
      "\n",
      "[126 rows x 3 columns]\n"
     ]
    }
   ],
   "execution_count": 68
  },
  {
   "metadata": {
    "ExecuteTime": {
     "end_time": "2024-09-11T14:34:32.277156Z",
     "start_time": "2024-09-11T14:34:32.263297Z"
    }
   },
   "cell_type": "code",
   "source": [
    "# Alterando o nome das colunas da tabela:\n",
    "dados_mercado_adj_close.columns = ['DOLAR', 'IBOVESPA', 'S&P500']\n",
    "print(dados_mercado_adj_close)"
   ],
   "id": "e1d27d0b0ef8f295",
   "outputs": [
    {
     "name": "stdout",
     "output_type": "stream",
     "text": [
      "                             DOLAR       IBOVESPA       S&P500\n",
      "Date                                                          \n",
      "2024-03-11 00:00:00+00:00  4.97754  126124.000000  5117.939941\n",
      "2024-03-12 00:00:00+00:00  4.97740  127668.000000  5175.270020\n",
      "2024-03-13 00:00:00+00:00  4.96870  128006.000000  5165.310059\n",
      "2024-03-14 00:00:00+00:00  4.96920  127690.000000  5150.479980\n",
      "2024-03-15 00:00:00+00:00  4.99270  126742.000000  5117.089844\n",
      "...                            ...            ...          ...\n",
      "2024-09-05 00:00:00+00:00  5.64200  136502.000000  5503.410156\n",
      "2024-09-06 00:00:00+00:00  5.56750  134572.000000  5408.419922\n",
      "2024-09-09 00:00:00+00:00  5.59660  134737.000000  5471.049805\n",
      "2024-09-10 00:00:00+00:00  5.58430  134320.000000  5495.520020\n",
      "2024-09-11 00:00:00+00:00  5.65700  134390.609375  5413.160156\n",
      "\n",
      "[126 rows x 3 columns]\n"
     ]
    }
   ],
   "execution_count": 69
  },
  {
   "metadata": {
    "ExecuteTime": {
     "end_time": "2024-09-11T14:34:32.290685Z",
     "start_time": "2024-09-11T14:34:32.278165Z"
    }
   },
   "cell_type": "code",
   "source": [
    "# Definindo o tema dos gráficos que serão gerados:\n",
    "plt.style.use('cyberpunk')"
   ],
   "id": "b52124afcc87838e",
   "outputs": [],
   "execution_count": 70
  },
  {
   "metadata": {
    "ExecuteTime": {
     "end_time": "2024-09-11T14:34:32.440449Z",
     "start_time": "2024-09-11T14:34:32.291740Z"
    }
   },
   "cell_type": "code",
   "source": [
    "# Criando o gráfico de performance da coluna 'DOLAR':\n",
    "plt.plot(dados_mercado_adj_close['DOLAR'])\n",
    "plt.title('DOLAR')\n",
    "\n",
    "# plt.show()  # -> Comando para abrir o gráfico fora do jupyter.\n",
    "\n",
    "plt.savefig('dolar.png')"
   ],
   "id": "f562ebb44542d5c8",
   "outputs": [
    {
     "data": {
      "text/plain": [
       "<Figure size 640x480 with 1 Axes>"
      ],
      "image/png": "[encoded data removed]"
     },
     "metadata": {},
     "output_type": "display_data"
    }
   ],
   "execution_count": 71
  },
  {
   "metadata": {
    "ExecuteTime": {
     "end_time": "2024-09-11T14:34:32.567833Z",
     "start_time": "2024-09-11T14:34:32.443483Z"
    }
   },
   "cell_type": "code",
   "source": [
    "# Criando o gráfico de performance da coluna 'IBOVESPA':\n",
    "plt.plot(dados_mercado_adj_close['IBOVESPA'])\n",
    "plt.title('IBOVESPA')\n",
    "\n",
    "# plt.show()  # -> Comando para abrir o gráfico fora do jupyter.\n",
    "\n",
    "plt.savefig('ibovespa.png')"
   ],
   "id": "418e7e426242bb77",
   "outputs": [
    {
     "data": {
      "text/plain": [
       "<Figure size 640x480 with 1 Axes>"
      ],
      "image/png": "[encoded data removed]"
     },
     "metadata": {},
     "output_type": "display_data"
    }
   ],
   "execution_count": 72
  },
  {
   "metadata": {
    "ExecuteTime": {
     "end_time": "2024-09-11T14:34:32.680918Z",
     "start_time": "2024-09-11T14:34:32.568839Z"
    }
   },
   "cell_type": "code",
   "source": [
    "# Criando o gráfico de performance da coluna 'S&P500':\n",
    "plt.plot(dados_mercado_adj_close['S&P500'])\n",
    "plt.title('S&P500')\n",
    "\n",
    "# plt.show()  # -> Comando para abrir o gráfico fora do jupyter.\n",
    "\n",
    "plt.savefig('sp500.png')"
   ],
   "id": "4064e655791ed841",
   "outputs": [
    {
     "data": {
      "text/plain": [
       "<Figure size 640x480 with 1 Axes>"
      ],
      "image/png": "[encoded data removed]"
     },
     "metadata": {},
     "output_type": "display_data"
    }
   ],
   "execution_count": 73
  },
  {
   "metadata": {
    "ExecuteTime": {
     "end_time": "2024-09-11T14:34:32.688950Z",
     "start_time": "2024-09-11T14:34:32.681923Z"
    }
   },
   "cell_type": "code",
   "source": [
    "# Calculando os retornos diários tendo como base um periodo de 5 dias:\n",
    "retornos_diarios = dados_mercado_adj_close.pct_change(periods=5)\n",
    "print(retornos_diarios)"
   ],
   "id": "b9a1de2ce308dcf7",
   "outputs": [
    {
     "name": "stdout",
     "output_type": "stream",
     "text": [
      "                              DOLAR  IBOVESPA    S&P500\n",
      "Date                                                   \n",
      "2024-03-11 00:00:00+00:00       NaN       NaN       NaN\n",
      "2024-03-12 00:00:00+00:00       NaN       NaN       NaN\n",
      "2024-03-13 00:00:00+00:00       NaN       NaN       NaN\n",
      "2024-03-14 00:00:00+00:00       NaN       NaN       NaN\n",
      "2024-03-15 00:00:00+00:00       NaN       NaN       NaN\n",
      "...                             ...       ...       ...\n",
      "2024-09-05 00:00:00+00:00  0.024347 -0.006131 -0.015874\n",
      "2024-09-06 00:00:00+00:00  0.000953 -0.010798 -0.032822\n",
      "2024-09-09 00:00:00+00:00 -0.005526 -0.009316 -0.031398\n",
      "2024-09-10 00:00:00+00:00 -0.005485 -0.000246 -0.006043\n",
      "2024-09-11 00:00:00+00:00  0.001682 -0.012640 -0.019367\n",
      "\n",
      "[126 rows x 3 columns]\n"
     ]
    }
   ],
   "execution_count": 74
  },
  {
   "metadata": {
    "ExecuteTime": {
     "end_time": "2024-09-11T14:34:32.703221Z",
     "start_time": "2024-09-11T14:34:32.689957Z"
    }
   },
   "cell_type": "code",
   "source": [
    "retorno_dolar = retornos_diarios['DOLAR'].iloc[-1]\n",
    "retorno_ibovespa = retornos_diarios['IBOVESPA'].iloc[-1]\n",
    "retorno_sp500 = retornos_diarios['S&P500'].iloc[-1]"
   ],
   "id": "ee6f0673bc024e1c",
   "outputs": [],
   "execution_count": 75
  },
  {
   "metadata": {
    "ExecuteTime": {
     "end_time": "2024-09-11T14:34:32.717651Z",
     "start_time": "2024-09-11T14:34:32.704225Z"
    }
   },
   "cell_type": "code",
   "source": [
    "retorno_dolar = str(round(retorno_dolar * 100, 2)) + '%'\n",
    "print(retorno_dolar)"
   ],
   "id": "42089dad3b6460b8",
   "outputs": [
    {
     "name": "stdout",
     "output_type": "stream",
     "text": [
      "0.17%\n"
     ]
    }
   ],
   "execution_count": 76
  },
  {
   "metadata": {
    "ExecuteTime": {
     "end_time": "2024-09-11T14:34:32.732695Z",
     "start_time": "2024-09-11T14:34:32.718658Z"
    }
   },
   "cell_type": "code",
   "source": [
    "retorno_ibovespa = str(round(retorno_ibovespa * 100, 2)) + '%'\n",
    "print(retorno_ibovespa)"
   ],
   "id": "456fbbc91ea08ecc",
   "outputs": [
    {
     "name": "stdout",
     "output_type": "stream",
     "text": [
      "-1.26%\n"
     ]
    }
   ],
   "execution_count": 77
  },
  {
   "metadata": {
    "ExecuteTime": {
     "end_time": "2024-09-11T14:34:32.747640Z",
     "start_time": "2024-09-11T14:34:32.733704Z"
    }
   },
   "cell_type": "code",
   "source": [
    "retorno_sp500 = str(round(retorno_sp500 * 100, 2)) + '%'\n",
    "print(retorno_sp500)"
   ],
   "id": "ea7d5c9651cf4a74",
   "outputs": [
    {
     "name": "stdout",
     "output_type": "stream",
     "text": [
      "-1.94%\n"
     ]
    }
   ],
   "execution_count": 78
  },
  {
   "metadata": {
    "ExecuteTime": {
     "end_time": "2024-09-11T14:34:32.773753Z",
     "start_time": "2024-09-11T14:34:32.748230Z"
    }
   },
   "cell_type": "code",
   "source": [
    "# Enviando email contendo os dados analisados:\n",
    "import win32com.client as win32\n",
    "outlook = win32.Dispatch(\"Outlook.Application\")\n",
    "\n",
    "email = outlook.CreateItem(0)"
   ],
   "id": "640441e7eeea364f",
   "outputs": [],
   "execution_count": 79
  },
  {
   "metadata": {
    "ExecuteTime": {
     "end_time": "2024-09-11T14:34:32.825329Z",
     "start_time": "2024-09-11T14:34:32.774760Z"
    }
   },
   "cell_type": "code",
   "source": [
    "email.To = 'email_destino'\n",
    "email.Subject = 'Relatório de Mercado'\n",
    "email.Body = f'''Segue o relatório de mercado:\n",
    "\n",
    "* O Dólar teve o retorno de: {retorno_dolar}\n",
    "* O Ibovespa teve o retorno de: {retorno_ibovespa}\n",
    "* O S&P500 teve o retorno de: {retorno_sp500}\n",
    "\n",
    "Segue em anexo a performance dos ativos nos últimos 6 meses.\n",
    "\n",
    "Att,\n",
    "Witor Oliveira\n",
    "'''\n",
    "\n",
    "anexo_dolar = r'caminho_para_o_grafico_dolar'\n",
    "anexo_ibovespa = r'caminho_para_o_grafico_ibovespa'\n",
    "anexo_sp500 = r'caminho_para_o_grafico_sp500'\n",
    "\n",
    "email.Attachments.Add(anexo_dolar)\n",
    "email.Attachments.Add(anexo_ibovespa)\n",
    "email.Attachments.Add(anexo_sp500)\n",
    "\n",
    "email.Send()"
   ],
   "id": "70940b909bd0a3a8",
   "outputs": [],
   "execution_count": 80
  }
 ],
 "metadata": {
  "kernelspec": {
   "display_name": "Python 3",
   "language": "python",
   "name": "python3"
  },
  "language_info": {
   "codemirror_mode": {
    "name": "ipython",
    "version": 2
   },
   "file_extension": ".py",
   "mimetype": "text/x-python",
   "name": "python",
   "nbconvert_exporter": "python",
   "pygments_lexer": "ipython2",
   "version": "2.7.6"
  }
 },
 "nbformat": 4,
 "nbformat_minor": 5
}
